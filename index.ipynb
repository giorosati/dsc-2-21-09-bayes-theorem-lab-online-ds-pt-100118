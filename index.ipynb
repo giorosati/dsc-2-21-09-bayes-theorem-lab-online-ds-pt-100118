{
 "cells": [
  {
   "cell_type": "markdown",
   "metadata": {},
   "source": [
    "# Bayes' Theorem - Lab\n",
    "\n",
    "## Introduction\n",
    "\n",
    "In this lab, we shall try to put some of the formulas to practice that we came across with in the previous lesson. \n",
    "\n",
    "## Objectives\n",
    "* Understand and describe the Bayesian theorem from conditional probabilities\n",
    "* Describe the roles of Prior, Likehood and Posterior components of Bayes Theorem \n",
    "* Understand and perform simple applications of Bayes Theorem for sensitivity and specificity\n",
    "\n",
    "## Exercise 1\n",
    "### If a single card is drawn from a standard deck of playing cards, What is the probability of seeing a king ?"
   ]
  },
  {
   "cell_type": "code",
   "execution_count": 6,
   "metadata": {},
   "outputs": [
    {
     "data": {
      "text/plain": [
       "0.07692307692307693"
      ]
     },
     "execution_count": 6,
     "metadata": {},
     "output_type": "execute_result"
    }
   ],
   "source": [
    "p_king = (4/52)\n",
    "p_king"
   ]
  },
  {
   "cell_type": "markdown",
   "metadata": {},
   "source": [
    "### If evidence is provided (for instance, someone looks at the card) that the single card is a **face card**, what would be the posterior probability according to Bayes theorem?"
   ]
  },
  {
   "cell_type": "code",
   "execution_count": 7,
   "metadata": {},
   "outputs": [
    {
     "data": {
      "text/plain": [
       "0.3333333333333333"
      ]
     },
     "execution_count": 7,
     "metadata": {},
     "output_type": "execute_result"
    }
   ],
   "source": [
    "p_face_given_king = 1\n",
    "\n",
    "p_face = 3/13\n",
    "\n",
    "p_king_given_face = p_face_given_king* p_king/p_face\n",
    "p_king_given_face"
   ]
  },
  {
   "cell_type": "markdown",
   "metadata": {},
   "source": [
    "## Exercise 2\n",
    "#### 1. A couple has two children, the older of which is a boy. What is the probability that they have two boys?\n",
    "#### 2. A couple has two children, one of which is a boy. What is the probability that they have two boys?"
   ]
  },
  {
   "cell_type": "code",
   "execution_count": 9,
   "metadata": {
    "collapsed": true
   },
   "outputs": [],
   "source": [
    "# Explain events as:\n",
    "# A = both children are boys\n",
    "# B = older child is a boy \n",
    "# C = One of the children is a boy \n",
    "\n",
    "p_a = 1/4\n",
    "p_b = 2/4\n",
    "p_c = 3/4"
   ]
  },
  {
   "cell_type": "code",
   "execution_count": 10,
   "metadata": {},
   "outputs": [
    {
     "data": {
      "text/plain": [
       "0.5"
      ]
     },
     "execution_count": 10,
     "metadata": {},
     "output_type": "execute_result"
    }
   ],
   "source": [
    "# Part 1\n",
    "p_b_given_a = 1\n",
    "\n",
    "p_a_given_b = p_b_given_a * p_a / p_b\n",
    "p_a_given_b"
   ]
  },
  {
   "cell_type": "code",
   "execution_count": 11,
   "metadata": {},
   "outputs": [
    {
     "data": {
      "text/plain": [
       "0.3333333333333333"
      ]
     },
     "execution_count": 11,
     "metadata": {},
     "output_type": "execute_result"
    }
   ],
   "source": [
    "# Part 2 \n",
    "# Need p_a given p_c\n",
    "\n",
    "p_c_given_a = 1\n",
    "\n",
    "p_a_given_c = p_c_given_a * p_a / p_c\n",
    "\n",
    "p_a_given_c"
   ]
  },
  {
   "cell_type": "markdown",
   "metadata": {},
   "source": [
    "## Exercise 3 - Bayesian Disease Diagnosis\n",
    "\n",
    "[Visit this link for an insight into Bayesian Disease Daignosis](http://doingbayesiandataanalysis.blogspot.com/2013/01/bayesian-disease-diagnosis-with.html)\n",
    "\n"
   ]
  },
  {
   "cell_type": "markdown",
   "metadata": {},
   "source": [
    "A disease test is advertised as being 99% accurate \n",
    "\n",
    "* If a patient has the disease,they  will test positive 99% of the time.\n",
    "\n",
    "* If you don't have the disease, they will test negative 99% of the time. \n",
    "\n",
    "* 1% of all people have this disease \n",
    "\n",
    "#### Now a patient tests positive, what is the probability that you actually have the disease?"
   ]
  },
  {
   "cell_type": "code",
   "execution_count": 21,
   "metadata": {},
   "outputs": [
    {
     "name": "stdout",
     "output_type": "stream",
     "text": [
      "probability of positive test given disease: 0.0099\n",
      "probability of negative test given disease: 0.0001\n",
      "probability of positive test if no disease: 0.0099\n",
      "probability of negative test if no disease: 0.9801\n",
      "total probability: 1.0\n",
      "probability of disease given a positive test: 0.005\n"
     ]
    }
   ],
   "source": [
    "# a_t = true positive\n",
    "# a_f = false positive\n",
    "# b_t = true negative\n",
    "# b_f = false negative\n",
    "\n",
    "p_a_t = .01 * .99  # 1% of population x 99% of positive tests  (have disease, positive test)\n",
    "p_a_f = .99 * .01  # 99% of population x 1% of positive tests  (no disease, positive test)\n",
    "p_b_t = .99 * .99  # 99% of population x  99% of negative tests (no disease, negative test)\n",
    "p_b_f = .01 * .01  # 1% of population * % of negative tests  (have disease, negative test)\n",
    "\n",
    "p_positive_test = p_a_t + p_a_f\n",
    "\n",
    "\n",
    "# p_disease_given_positive_test = P(positive test given disease) * P(disease) / P(positive_test)\n",
    "\n",
    "p_disease_given_positive_test = p_a_t * .01 / p_positive_test\n",
    "\n",
    "total_prob = p_a_t + p_a_f + p_b_t + p_b_f\n",
    "\n",
    "print(\"probability of positive test given disease:\", p_a_t)\n",
    "print(\"probability of negative test given disease:\", p_b_f)\n",
    "print(\"probability of positive test if no disease:\", p_a_f)\n",
    "print(\"probability of negative test if no disease:\", p_b_t) \n",
    "\n",
    "print (\"total probability:\",total_prob)\n",
    "\n",
    "print(\"probability of disease given a positive test:\", p_disease_given_positive_test)\n"
   ]
  },
  {
   "cell_type": "markdown",
   "metadata": {},
   "source": [
    "## Summary \n",
    "\n",
    "In this lab, we saw a few simple examples of Bayesian logic and how we can add prior information to our calculation, in order to update our beliefs about the certain events. Bayesian logic works in numerous ways and it is not within the scope of this section to give you a deep dive in complex Bayesian problems. You are advised to re-visit the provided links when you have a better understanding of Bayesian inference. "
   ]
  }
 ],
 "metadata": {
  "kernelspec": {
   "display_name": "Python 3",
   "language": "python",
   "name": "python3"
  },
  "language_info": {
   "codemirror_mode": {
    "name": "ipython",
    "version": 3
   },
   "file_extension": ".py",
   "mimetype": "text/x-python",
   "name": "python",
   "nbconvert_exporter": "python",
   "pygments_lexer": "ipython3",
   "version": "3.6.8"
  }
 },
 "nbformat": 4,
 "nbformat_minor": 2
}
